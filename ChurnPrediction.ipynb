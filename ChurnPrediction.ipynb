{
 "cells": [
  {
   "attachments": {
    "COUR_IPO.png": {
     "image/png": "[encoded data removed]"
    }
   },
   "cell_type": "markdown",
   "metadata": {},
   "source": [
    "![COUR_IPO.png](attachment:COUR_IPO.png)"
   ]
  },
  {
   "cell_type": "markdown",
   "metadata": {},
   "source": [
    "# Welcome to the Data Science Coding Challange!\n",
    "\n",
    "Test your skills in a real-world coding challenge. Coding Challenges provide CS & DS Coding Competitions with Prizes and achievement badges!\n",
    "\n",
    "CS & DS learners want to be challenged as a way to evaluate if they’re job ready. So, why not create fun challenges and give winners something truly valuable such as complimentary access to select Data Science courses, or the ability to receive an achievement badge on their Coursera Skills Profile - highlighting their performance to recruiters."
   ]
  },
  {
   "cell_type": "markdown",
   "metadata": {},
   "source": [
    "## Introduction\n",
    "\n",
    "In this challenge, you'll get the opportunity to tackle one of the most industry-relevant maching learning problems with a unique dataset that will put your modeling skills to the test. Subscription services are leveraged by companies across many industries, from fitness to video streaming to retail. One of the primary objectives of companies with subscription services is to decrease churn and ensure that users are retained as subscribers. In order to do this efficiently and systematically, many companies employ machine learning to predict which users are at the highest risk of churn, so that proper interventions can be effectively deployed to the right audience.\n",
    "\n",
    "In this challenge, we will be tackling the churn prediction problem on a very unique and interesting group of subscribers on a video streaming service! \n",
    "\n",
    "Imagine that you are a new data scientist at this video streaming company and you are tasked with building a model that can predict which existing subscribers will continue their subscriptions for another month. We have provided a dataset that is a sample of subscriptions that were initiated in 2021, all snapshotted at a particular date before the subscription was cancelled. Subscription cancellation can happen for a multitude of reasons, including:\n",
    "* the customer completes all content they were interested in, and no longer need the subscription\n",
    "* the customer finds themselves to be too busy and cancels their subscription until a later time\n",
    "* the customer determines that the streaming service is not the best fit for them, so they cancel and look for something better suited\n",
    "\n",
    "Regardless the reason, this video streaming company has a vested interest in understanding the likelihood of each individual customer to churn in their subscription so that resources can be allocated appropriately to support customers. In this challenge, you will use your machine learning toolkit to do just that!"
   ]
  },
  {
   "cell_type": "markdown",
   "metadata": {},
   "source": [
    "## Understanding the Datasets"
   ]
  },
  {
   "cell_type": "markdown",
   "metadata": {},
   "source": [
    "### Train vs. Test\n",
    "In this competition, you’ll gain access to two datasets that are samples of past subscriptions of a video streaming platform that contain information about the customer, the customers streaming preferences, and their activity in the subscription thus far. One dataset is titled `train.csv` and the other is titled `test.csv`.\n",
    "\n",
    "`train.csv` contains 70% of the overall sample (243,787 subscriptions to be exact) and importantly, will reveal whether or not the subscription was continued into the next month (the “ground truth”).\n",
    "\n",
    "The `test.csv` dataset contains the exact same information about the remaining segment of the overall sample (104,480 subscriptions to be exact), but does not disclose the “ground truth” for each subscription. It’s your job to predict this outcome!\n",
    "\n",
    "Using the patterns you find in the `train.csv` data, predict whether the subscriptions in `test.csv` will be continued for another month, or not."
   ]
  },
  {
   "cell_type": "markdown",
   "metadata": {},
   "source": [
    "### Dataset descriptions\n",
    "Both `train.csv` and `test.csv` contain one row for each unique subscription. For each subscription, a single observation (`CustomerID`) is included during which the subscription was active. \n",
    "\n",
    "In addition to this identifier column, the `train.csv` dataset also contains the target label for the task, a binary column `Churn`.\n",
    "\n",
    "Besides that column, both datasets have an identical set of features that can be used to train your model to make predictions. Below you can see descriptions of each feature. Familiarize yourself with them so that you can harness them most effectively for this machine learning task!"
   ]
  },
  {
   "cell_type": "code",
   "execution_count": 3,
   "metadata": {},
   "outputs": [
    {
     "data": {
      "text/html": [
       "<div>\n",
       "<style scoped>\n",
       "    .dataframe tbody tr th:only-of-type {\n",
       "        vertical-align: middle;\n",
       "    }\n",
       "\n",
       "    .dataframe tbody tr th {\n",
       "        vertical-align: top;\n",
       "    }\n",
       "\n",
       "    .dataframe thead th {\n",
       "        text-align: right;\n",
       "    }\n",
       "</style>\n",
       "<table border=\"1\" class=\"dataframe\">\n",
       "  <thead>\n",
       "    <tr style=\"text-align: right;\">\n",
       "      <th></th>\n",
       "      <th>Column_name</th>\n",
       "      <th>Column_type</th>\n",
       "      <th>Data_type</th>\n",
       "      <th>Description</th>\n",
       "    </tr>\n",
       "  </thead>\n",
       "  <tbody>\n",
       "    <tr>\n",
       "      <th>0</th>\n",
       "      <td>AccountAge</td>\n",
       "      <td>Feature</td>\n",
       "      <td>integer</td>\n",
       "      <td>The age of the user's account in months.</td>\n",
       "    </tr>\n",
       "    <tr>\n",
       "      <th>1</th>\n",
       "      <td>MonthlyCharges</td>\n",
       "      <td>Feature</td>\n",
       "      <td>float</td>\n",
       "      <td>The amount charged to the user on a monthly basis.</td>\n",
       "    </tr>\n",
       "    <tr>\n",
       "      <th>2</th>\n",
       "      <td>TotalCharges</td>\n",
       "      <td>Feature</td>\n",
       "      <td>float</td>\n",
       "      <td>The total charges incurred by the user over the account's lifetime.</td>\n",
       "    </tr>\n",
       "    <tr>\n",
       "      <th>3</th>\n",
       "      <td>SubscriptionType</td>\n",
       "      <td>Feature</td>\n",
       "      <td>object</td>\n",
       "      <td>The type of subscription chosen by the user (Basic, Standard, or Premium).</td>\n",
       "    </tr>\n",
       "    <tr>\n",
       "      <th>4</th>\n",
       "      <td>PaymentMethod</td>\n",
       "      <td>Feature</td>\n",
       "      <td>string</td>\n",
       "      <td>The method of payment used by the user.</td>\n",
       "    </tr>\n",
       "    <tr>\n",
       "      <th>5</th>\n",
       "      <td>PaperlessBilling</td>\n",
       "      <td>Feature</td>\n",
       "      <td>string</td>\n",
       "      <td>Indicates whether the user has opted for paperless billing (Yes or No).</td>\n",
       "    </tr>\n",
       "    <tr>\n",
       "      <th>6</th>\n",
       "      <td>ContentType</td>\n",
       "      <td>Feature</td>\n",
       "      <td>string</td>\n",
       "      <td>The type of content preferred by the user (Movies, TV Shows, or Both).</td>\n",
       "    </tr>\n",
       "    <tr>\n",
       "      <th>7</th>\n",
       "      <td>MultiDeviceAccess</td>\n",
       "      <td>Feature</td>\n",
       "      <td>string</td>\n",
       "      <td>Indicates whether the user has access to the service on multiple devices (Yes or No).</td>\n",
       "    </tr>\n",
       "    <tr>\n",
       "      <th>8</th>\n",
       "      <td>DeviceRegistered</td>\n",
       "      <td>Feature</td>\n",
       "      <td>string</td>\n",
       "      <td>The type of device registered by the user (TV, Mobile, Tablet, or Computer).</td>\n",
       "    </tr>\n",
       "    <tr>\n",
       "      <th>9</th>\n",
       "      <td>ViewingHoursPerWeek</td>\n",
       "      <td>Feature</td>\n",
       "      <td>float</td>\n",
       "      <td>The number of hours the user spends watching content per week.</td>\n",
       "    </tr>\n",
       "    <tr>\n",
       "      <th>10</th>\n",
       "      <td>AverageViewingDuration</td>\n",
       "      <td>Feature</td>\n",
       "      <td>float</td>\n",
       "      <td>The average duration of each viewing session in minutes.</td>\n",
       "    </tr>\n",
       "    <tr>\n",
       "      <th>11</th>\n",
       "      <td>ContentDownloadsPerMonth</td>\n",
       "      <td>Feature</td>\n",
       "      <td>integer</td>\n",
       "      <td>The number of content downloads by the user per month.</td>\n",
       "    </tr>\n",
       "    <tr>\n",
       "      <th>12</th>\n",
       "      <td>GenrePreference</td>\n",
       "      <td>Feature</td>\n",
       "      <td>string</td>\n",
       "      <td>The preferred genre of content chosen by the user.</td>\n",
       "    </tr>\n",
       "    <tr>\n",
       "      <th>13</th>\n",
       "      <td>UserRating</td>\n",
       "      <td>Feature</td>\n",
       "      <td>float</td>\n",
       "      <td>The user's rating for the service on a scale of 1 to 5.</td>\n",
       "    </tr>\n",
       "    <tr>\n",
       "      <th>14</th>\n",
       "      <td>SupportTicketsPerMonth</td>\n",
       "      <td>Feature</td>\n",
       "      <td>integer</td>\n",
       "      <td>The number of support tickets raised by the user per month.</td>\n",
       "    </tr>\n",
       "    <tr>\n",
       "      <th>15</th>\n",
       "      <td>Gender</td>\n",
       "      <td>Feature</td>\n",
       "      <td>string</td>\n",
       "      <td>The gender of the user (Male or Female).</td>\n",
       "    </tr>\n",
       "    <tr>\n",
       "      <th>16</th>\n",
       "      <td>WatchlistSize</td>\n",
       "      <td>Feature</td>\n",
       "      <td>float</td>\n",
       "      <td>The number of items in the user's watchlist.</td>\n",
       "    </tr>\n",
       "    <tr>\n",
       "      <th>17</th>\n",
       "      <td>ParentalControl</td>\n",
       "      <td>Feature</td>\n",
       "      <td>string</td>\n",
       "      <td>Indicates whether parental control is enabled for the user (Yes or No).</td>\n",
       "    </tr>\n",
       "    <tr>\n",
       "      <th>18</th>\n",
       "      <td>SubtitlesEnabled</td>\n",
       "      <td>Feature</td>\n",
       "      <td>string</td>\n",
       "      <td>Indicates whether subtitles are enabled for the user (Yes or No).</td>\n",
       "    </tr>\n",
       "    <tr>\n",
       "      <th>19</th>\n",
       "      <td>CustomerID</td>\n",
       "      <td>Identifier</td>\n",
       "      <td>string</td>\n",
       "      <td>A unique identifier for each customer.</td>\n",
       "    </tr>\n",
       "    <tr>\n",
       "      <th>20</th>\n",
       "      <td>Churn</td>\n",
       "      <td>Target</td>\n",
       "      <td>integer</td>\n",
       "      <td>The target variable indicating whether a user has churned or not (1 for churned, 0 for not churned).</td>\n",
       "    </tr>\n",
       "  </tbody>\n",
       "</table>\n",
       "</div>"
      ],
      "text/plain": [
       "                 Column_name Column_type Data_type  \\\n",
       "0                 AccountAge     Feature   integer   \n",
       "1             MonthlyCharges     Feature     float   \n",
       "2               TotalCharges     Feature     float   \n",
       "3           SubscriptionType     Feature    object   \n",
       "4              PaymentMethod     Feature    string   \n",
       "5           PaperlessBilling     Feature    string   \n",
       "6                ContentType     Feature    string   \n",
       "7          MultiDeviceAccess     Feature    string   \n",
       "8           DeviceRegistered     Feature    string   \n",
       "9        ViewingHoursPerWeek     Feature     float   \n",
       "10    AverageViewingDuration     Feature     float   \n",
       "11  ContentDownloadsPerMonth     Feature   integer   \n",
       "12           GenrePreference     Feature    string   \n",
       "13                UserRating     Feature     float   \n",
       "14    SupportTicketsPerMonth     Feature   integer   \n",
       "15                    Gender     Feature    string   \n",
       "16             WatchlistSize     Feature     float   \n",
       "17           ParentalControl     Feature    string   \n",
       "18          SubtitlesEnabled     Feature    string   \n",
       "19                CustomerID  Identifier    string   \n",
       "20                     Churn      Target   integer   \n",
       "\n",
       "                                                                                             Description  \n",
       "0                                                               The age of the user's account in months.  \n",
       "1                                                     The amount charged to the user on a monthly basis.  \n",
       "2                                    The total charges incurred by the user over the account's lifetime.  \n",
       "3                             The type of subscription chosen by the user (Basic, Standard, or Premium).  \n",
       "4                                                                The method of payment used by the user.  \n",
       "5                                Indicates whether the user has opted for paperless billing (Yes or No).  \n",
       "6                                 The type of content preferred by the user (Movies, TV Shows, or Both).  \n",
       "7                  Indicates whether the user has access to the service on multiple devices (Yes or No).  \n",
       "8                           The type of device registered by the user (TV, Mobile, Tablet, or Computer).  \n",
       "9                                         The number of hours the user spends watching content per week.  \n",
       "10                                              The average duration of each viewing session in minutes.  \n",
       "11                                                The number of content downloads by the user per month.  \n",
       "12                                                    The preferred genre of content chosen by the user.  \n",
       "13                                               The user's rating for the service on a scale of 1 to 5.  \n",
       "14                                           The number of support tickets raised by the user per month.  \n",
       "15                                                              The gender of the user (Male or Female).  \n",
       "16                                                          The number of items in the user's watchlist.  \n",
       "17                               Indicates whether parental control is enabled for the user (Yes or No).  \n",
       "18                                     Indicates whether subtitles are enabled for the user (Yes or No).  \n",
       "19                                                                A unique identifier for each customer.  \n",
       "20  The target variable indicating whether a user has churned or not (1 for churned, 0 for not churned).  "
      ]
     },
     "execution_count": 3,
     "metadata": {},
     "output_type": "execute_result"
    }
   ],
   "source": [
    "import pandas as pd\n",
    "data_descriptions = pd.read_csv('data_descriptions.csv')\n",
    "pd.set_option('display.max_colwidth', None)\n",
    "data_descriptions"
   ]
  },
  {
   "cell_type": "markdown",
   "metadata": {},
   "source": [
    "## How to Submit your Predictions to Coursera\n",
    "Submission Format:\n",
    "\n",
    "In this notebook you should follow the steps below to explore the data, train a model using the data in `train.csv`, and then score your model using the data in `test.csv`. Your final submission should be a dataframe (call it `prediction_df` with two columns and exactly 104,480 rows (plus a header row). The first column should be `CustomerID` so that we know which prediction belongs to which observation. The second column should be called `predicted_probability` and should be a numeric column representing the __likellihood that the subscription will churn__.\n",
    "\n",
    "Your submission will show an error if you have extra columns (beyond `CustomerID` and `predicted_probability`) or extra rows. The order of the rows does not matter.\n",
    "\n",
    "The naming convention of the dataframe and columns are critical for our autograding, so please make sure to use the exact naming conventions of `prediction_df` with column names `CustomerID` and `predicted_probability`!\n",
    "\n",
    "To determine your final score, we will compare your `predicted_probability` predictions to the source of truth labels for the observations in `test.csv` and calculate the [ROC AUC](https://scikit-learn.org/stable/modules/generated/sklearn.metrics.roc_auc_score.html). We choose this metric because we not only want to be able to predict which subscriptions will be retained, but also want a well-calibrated likelihood score that can be used to target interventions and support most accurately."
   ]
  },
  {
   "cell_type": "markdown",
   "metadata": {},
   "source": [
    "## Import Python Modules\n",
    "\n",
    "First, import the primary modules that will be used in this project. Remember as this is an open-ended project please feel free to make use of any of your favorite libraries that you feel may be useful for this challenge. For example some of the following popular packages may be useful:\n",
    "\n",
    "- pandas\n",
    "- numpy\n",
    "- Scipy\n",
    "- Scikit-learn\n",
    "- keras\n",
    "- maplotlib\n",
    "- seaborn\n",
    "- etc, etc"
   ]
  },
  {
   "cell_type": "code",
   "execution_count": 4,
   "metadata": {},
   "outputs": [],
   "source": [
    "# Import required packages\n",
    "\n",
    "# Data packages\n",
    "import pandas as pd\n",
    "import numpy as np\n",
    "\n",
    "# Machine Learning / Classification packages\n",
    "from sklearn.metrics import roc_auc_score\n",
    "from sklearn.model_selection import train_test_split\n",
    "from sklearn.dummy import DummyClassifier\n",
    "\n",
    "# Visualization Packages\n",
    "from matplotlib import pyplot as plt\n",
    "import seaborn as sns\n",
    "%matplotlib inline"
   ]
  },
  {
   "cell_type": "code",
   "execution_count": 5,
   "metadata": {},
   "outputs": [],
   "source": [
    "# Import any other packages you may want to use\n"
   ]
  },
  {
   "cell_type": "markdown",
   "metadata": {},
   "source": [
    "## Load the Data\n",
    "\n",
    "Let's start by loading the dataset `train.csv` into a dataframe `train_df`, and `test.csv` into a dataframe `test_df` and display the shape of the dataframes."
   ]
  },
  {
   "cell_type": "code",
   "execution_count": 6,
   "metadata": {},
   "outputs": [
    {
     "name": "stdout",
     "output_type": "stream",
     "text": [
      "train_df Shape: (243787, 21)\n"
     ]
    },
    {
     "data": {
      "text/html": [
       "<div>\n",
       "<style scoped>\n",
       "    .dataframe tbody tr th:only-of-type {\n",
       "        vertical-align: middle;\n",
       "    }\n",
       "\n",
       "    .dataframe tbody tr th {\n",
       "        vertical-align: top;\n",
       "    }\n",
       "\n",
       "    .dataframe thead th {\n",
       "        text-align: right;\n",
       "    }\n",
       "</style>\n",
       "<table border=\"1\" class=\"dataframe\">\n",
       "  <thead>\n",
       "    <tr style=\"text-align: right;\">\n",
       "      <th></th>\n",
       "      <th>AccountAge</th>\n",
       "      <th>MonthlyCharges</th>\n",
       "      <th>TotalCharges</th>\n",
       "      <th>SubscriptionType</th>\n",
       "      <th>PaymentMethod</th>\n",
       "      <th>PaperlessBilling</th>\n",
       "      <th>ContentType</th>\n",
       "      <th>MultiDeviceAccess</th>\n",
       "      <th>DeviceRegistered</th>\n",
       "      <th>ViewingHoursPerWeek</th>\n",
       "      <th>...</th>\n",
       "      <th>ContentDownloadsPerMonth</th>\n",
       "      <th>GenrePreference</th>\n",
       "      <th>UserRating</th>\n",
       "      <th>SupportTicketsPerMonth</th>\n",
       "      <th>Gender</th>\n",
       "      <th>WatchlistSize</th>\n",
       "      <th>ParentalControl</th>\n",
       "      <th>SubtitlesEnabled</th>\n",
       "      <th>CustomerID</th>\n",
       "      <th>Churn</th>\n",
       "    </tr>\n",
       "  </thead>\n",
       "  <tbody>\n",
       "    <tr>\n",
       "      <th>0</th>\n",
       "      <td>20</td>\n",
       "      <td>11.055215</td>\n",
       "      <td>221.104302</td>\n",
       "      <td>Premium</td>\n",
       "      <td>Mailed check</td>\n",
       "      <td>No</td>\n",
       "      <td>Both</td>\n",
       "      <td>No</td>\n",
       "      <td>Mobile</td>\n",
       "      <td>36.758104</td>\n",
       "      <td>...</td>\n",
       "      <td>10</td>\n",
       "      <td>Sci-Fi</td>\n",
       "      <td>2.176498</td>\n",
       "      <td>4</td>\n",
       "      <td>Male</td>\n",
       "      <td>3</td>\n",
       "      <td>No</td>\n",
       "      <td>No</td>\n",
       "      <td>CB6SXPNVZA</td>\n",
       "      <td>0</td>\n",
       "    </tr>\n",
       "    <tr>\n",
       "      <th>1</th>\n",
       "      <td>57</td>\n",
       "      <td>5.175208</td>\n",
       "      <td>294.986882</td>\n",
       "      <td>Basic</td>\n",
       "      <td>Credit card</td>\n",
       "      <td>Yes</td>\n",
       "      <td>Movies</td>\n",
       "      <td>No</td>\n",
       "      <td>Tablet</td>\n",
       "      <td>32.450568</td>\n",
       "      <td>...</td>\n",
       "      <td>18</td>\n",
       "      <td>Action</td>\n",
       "      <td>3.478632</td>\n",
       "      <td>8</td>\n",
       "      <td>Male</td>\n",
       "      <td>23</td>\n",
       "      <td>No</td>\n",
       "      <td>Yes</td>\n",
       "      <td>S7R2G87O09</td>\n",
       "      <td>0</td>\n",
       "    </tr>\n",
       "    <tr>\n",
       "      <th>2</th>\n",
       "      <td>73</td>\n",
       "      <td>12.106657</td>\n",
       "      <td>883.785952</td>\n",
       "      <td>Basic</td>\n",
       "      <td>Mailed check</td>\n",
       "      <td>Yes</td>\n",
       "      <td>Movies</td>\n",
       "      <td>No</td>\n",
       "      <td>Computer</td>\n",
       "      <td>7.395160</td>\n",
       "      <td>...</td>\n",
       "      <td>23</td>\n",
       "      <td>Fantasy</td>\n",
       "      <td>4.238824</td>\n",
       "      <td>6</td>\n",
       "      <td>Male</td>\n",
       "      <td>1</td>\n",
       "      <td>Yes</td>\n",
       "      <td>Yes</td>\n",
       "      <td>EASDC20BDT</td>\n",
       "      <td>0</td>\n",
       "    </tr>\n",
       "    <tr>\n",
       "      <th>3</th>\n",
       "      <td>32</td>\n",
       "      <td>7.263743</td>\n",
       "      <td>232.439774</td>\n",
       "      <td>Basic</td>\n",
       "      <td>Electronic check</td>\n",
       "      <td>No</td>\n",
       "      <td>TV Shows</td>\n",
       "      <td>No</td>\n",
       "      <td>Tablet</td>\n",
       "      <td>27.960389</td>\n",
       "      <td>...</td>\n",
       "      <td>30</td>\n",
       "      <td>Drama</td>\n",
       "      <td>4.276013</td>\n",
       "      <td>2</td>\n",
       "      <td>Male</td>\n",
       "      <td>24</td>\n",
       "      <td>Yes</td>\n",
       "      <td>Yes</td>\n",
       "      <td>NPF69NT69N</td>\n",
       "      <td>0</td>\n",
       "    </tr>\n",
       "    <tr>\n",
       "      <th>4</th>\n",
       "      <td>57</td>\n",
       "      <td>16.953078</td>\n",
       "      <td>966.325422</td>\n",
       "      <td>Premium</td>\n",
       "      <td>Electronic check</td>\n",
       "      <td>Yes</td>\n",
       "      <td>TV Shows</td>\n",
       "      <td>No</td>\n",
       "      <td>TV</td>\n",
       "      <td>20.083397</td>\n",
       "      <td>...</td>\n",
       "      <td>20</td>\n",
       "      <td>Comedy</td>\n",
       "      <td>3.616170</td>\n",
       "      <td>4</td>\n",
       "      <td>Female</td>\n",
       "      <td>0</td>\n",
       "      <td>No</td>\n",
       "      <td>No</td>\n",
       "      <td>4LGYPK7VOL</td>\n",
       "      <td>0</td>\n",
       "    </tr>\n",
       "  </tbody>\n",
       "</table>\n",
       "<p>5 rows × 21 columns</p>\n",
       "</div>"
      ],
      "text/plain": [
       "   AccountAge  MonthlyCharges  TotalCharges SubscriptionType  \\\n",
       "0          20       11.055215    221.104302          Premium   \n",
       "1          57        5.175208    294.986882            Basic   \n",
       "2          73       12.106657    883.785952            Basic   \n",
       "3          32        7.263743    232.439774            Basic   \n",
       "4          57       16.953078    966.325422          Premium   \n",
       "\n",
       "      PaymentMethod PaperlessBilling ContentType MultiDeviceAccess  \\\n",
       "0      Mailed check               No        Both                No   \n",
       "1       Credit card              Yes      Movies                No   \n",
       "2      Mailed check              Yes      Movies                No   \n",
       "3  Electronic check               No    TV Shows                No   \n",
       "4  Electronic check              Yes    TV Shows                No   \n",
       "\n",
       "  DeviceRegistered  ViewingHoursPerWeek  ...  ContentDownloadsPerMonth  \\\n",
       "0           Mobile            36.758104  ...                        10   \n",
       "1           Tablet            32.450568  ...                        18   \n",
       "2         Computer             7.395160  ...                        23   \n",
       "3           Tablet            27.960389  ...                        30   \n",
       "4               TV            20.083397  ...                        20   \n",
       "\n",
       "   GenrePreference UserRating  SupportTicketsPerMonth  Gender WatchlistSize  \\\n",
       "0           Sci-Fi   2.176498                       4    Male             3   \n",
       "1           Action   3.478632                       8    Male            23   \n",
       "2          Fantasy   4.238824                       6    Male             1   \n",
       "3            Drama   4.276013                       2    Male            24   \n",
       "4           Comedy   3.616170                       4  Female             0   \n",
       "\n",
       "   ParentalControl SubtitlesEnabled  CustomerID Churn  \n",
       "0               No               No  CB6SXPNVZA     0  \n",
       "1               No              Yes  S7R2G87O09     0  \n",
       "2              Yes              Yes  EASDC20BDT     0  \n",
       "3              Yes              Yes  NPF69NT69N     0  \n",
       "4               No               No  4LGYPK7VOL     0  \n",
       "\n",
       "[5 rows x 21 columns]"
      ]
     },
     "execution_count": 6,
     "metadata": {},
     "output_type": "execute_result"
    }
   ],
   "source": [
    "train_df = pd.read_csv(\"train.csv\")\n",
    "print('train_df Shape:', train_df.shape)\n",
    "train_df.head()"
   ]
  },
  {
   "cell_type": "code",
   "execution_count": 7,
   "metadata": {},
   "outputs": [
    {
     "name": "stdout",
     "output_type": "stream",
     "text": [
      "test_df Shape: (104480, 20)\n"
     ]
    },
    {
     "data": {
      "text/html": [
       "<div>\n",
       "<style scoped>\n",
       "    .dataframe tbody tr th:only-of-type {\n",
       "        vertical-align: middle;\n",
       "    }\n",
       "\n",
       "    .dataframe tbody tr th {\n",
       "        vertical-align: top;\n",
       "    }\n",
       "\n",
       "    .dataframe thead th {\n",
       "        text-align: right;\n",
       "    }\n",
       "</style>\n",
       "<table border=\"1\" class=\"dataframe\">\n",
       "  <thead>\n",
       "    <tr style=\"text-align: right;\">\n",
       "      <th></th>\n",
       "      <th>AccountAge</th>\n",
       "      <th>MonthlyCharges</th>\n",
       "      <th>TotalCharges</th>\n",
       "      <th>SubscriptionType</th>\n",
       "      <th>PaymentMethod</th>\n",
       "      <th>PaperlessBilling</th>\n",
       "      <th>ContentType</th>\n",
       "      <th>MultiDeviceAccess</th>\n",
       "      <th>DeviceRegistered</th>\n",
       "      <th>ViewingHoursPerWeek</th>\n",
       "      <th>AverageViewingDuration</th>\n",
       "      <th>ContentDownloadsPerMonth</th>\n",
       "      <th>GenrePreference</th>\n",
       "      <th>UserRating</th>\n",
       "      <th>SupportTicketsPerMonth</th>\n",
       "      <th>Gender</th>\n",
       "      <th>WatchlistSize</th>\n",
       "      <th>ParentalControl</th>\n",
       "      <th>SubtitlesEnabled</th>\n",
       "      <th>CustomerID</th>\n",
       "    </tr>\n",
       "  </thead>\n",
       "  <tbody>\n",
       "    <tr>\n",
       "      <th>0</th>\n",
       "      <td>38</td>\n",
       "      <td>17.869374</td>\n",
       "      <td>679.036195</td>\n",
       "      <td>Premium</td>\n",
       "      <td>Mailed check</td>\n",
       "      <td>No</td>\n",
       "      <td>TV Shows</td>\n",
       "      <td>No</td>\n",
       "      <td>TV</td>\n",
       "      <td>29.126308</td>\n",
       "      <td>122.274031</td>\n",
       "      <td>42</td>\n",
       "      <td>Comedy</td>\n",
       "      <td>3.522724</td>\n",
       "      <td>2</td>\n",
       "      <td>Male</td>\n",
       "      <td>23</td>\n",
       "      <td>No</td>\n",
       "      <td>No</td>\n",
       "      <td>O1W6BHP6RM</td>\n",
       "    </tr>\n",
       "    <tr>\n",
       "      <th>1</th>\n",
       "      <td>77</td>\n",
       "      <td>9.912854</td>\n",
       "      <td>763.289768</td>\n",
       "      <td>Basic</td>\n",
       "      <td>Electronic check</td>\n",
       "      <td>Yes</td>\n",
       "      <td>TV Shows</td>\n",
       "      <td>No</td>\n",
       "      <td>TV</td>\n",
       "      <td>36.873729</td>\n",
       "      <td>57.093319</td>\n",
       "      <td>43</td>\n",
       "      <td>Action</td>\n",
       "      <td>2.021545</td>\n",
       "      <td>2</td>\n",
       "      <td>Female</td>\n",
       "      <td>22</td>\n",
       "      <td>Yes</td>\n",
       "      <td>No</td>\n",
       "      <td>LFR4X92X8H</td>\n",
       "    </tr>\n",
       "    <tr>\n",
       "      <th>2</th>\n",
       "      <td>5</td>\n",
       "      <td>15.019011</td>\n",
       "      <td>75.095057</td>\n",
       "      <td>Standard</td>\n",
       "      <td>Bank transfer</td>\n",
       "      <td>No</td>\n",
       "      <td>TV Shows</td>\n",
       "      <td>Yes</td>\n",
       "      <td>Computer</td>\n",
       "      <td>7.601729</td>\n",
       "      <td>140.414001</td>\n",
       "      <td>14</td>\n",
       "      <td>Sci-Fi</td>\n",
       "      <td>4.806126</td>\n",
       "      <td>2</td>\n",
       "      <td>Female</td>\n",
       "      <td>22</td>\n",
       "      <td>No</td>\n",
       "      <td>Yes</td>\n",
       "      <td>QM5GBIYODA</td>\n",
       "    </tr>\n",
       "    <tr>\n",
       "      <th>3</th>\n",
       "      <td>88</td>\n",
       "      <td>15.357406</td>\n",
       "      <td>1351.451692</td>\n",
       "      <td>Standard</td>\n",
       "      <td>Electronic check</td>\n",
       "      <td>No</td>\n",
       "      <td>Both</td>\n",
       "      <td>Yes</td>\n",
       "      <td>Tablet</td>\n",
       "      <td>35.586430</td>\n",
       "      <td>177.002419</td>\n",
       "      <td>14</td>\n",
       "      <td>Comedy</td>\n",
       "      <td>4.943900</td>\n",
       "      <td>0</td>\n",
       "      <td>Female</td>\n",
       "      <td>23</td>\n",
       "      <td>Yes</td>\n",
       "      <td>Yes</td>\n",
       "      <td>D9RXTK2K9F</td>\n",
       "    </tr>\n",
       "    <tr>\n",
       "      <th>4</th>\n",
       "      <td>91</td>\n",
       "      <td>12.406033</td>\n",
       "      <td>1128.949004</td>\n",
       "      <td>Standard</td>\n",
       "      <td>Credit card</td>\n",
       "      <td>Yes</td>\n",
       "      <td>TV Shows</td>\n",
       "      <td>Yes</td>\n",
       "      <td>Tablet</td>\n",
       "      <td>23.503651</td>\n",
       "      <td>70.308376</td>\n",
       "      <td>6</td>\n",
       "      <td>Drama</td>\n",
       "      <td>2.846880</td>\n",
       "      <td>6</td>\n",
       "      <td>Female</td>\n",
       "      <td>0</td>\n",
       "      <td>No</td>\n",
       "      <td>No</td>\n",
       "      <td>ENTCCHR1LR</td>\n",
       "    </tr>\n",
       "  </tbody>\n",
       "</table>\n",
       "</div>"
      ],
      "text/plain": [
       "   AccountAge  MonthlyCharges  TotalCharges SubscriptionType  \\\n",
       "0          38       17.869374    679.036195          Premium   \n",
       "1          77        9.912854    763.289768            Basic   \n",
       "2           5       15.019011     75.095057         Standard   \n",
       "3          88       15.357406   1351.451692         Standard   \n",
       "4          91       12.406033   1128.949004         Standard   \n",
       "\n",
       "      PaymentMethod PaperlessBilling ContentType MultiDeviceAccess  \\\n",
       "0      Mailed check               No    TV Shows                No   \n",
       "1  Electronic check              Yes    TV Shows                No   \n",
       "2     Bank transfer               No    TV Shows               Yes   \n",
       "3  Electronic check               No        Both               Yes   \n",
       "4       Credit card              Yes    TV Shows               Yes   \n",
       "\n",
       "  DeviceRegistered  ViewingHoursPerWeek  AverageViewingDuration  \\\n",
       "0               TV            29.126308              122.274031   \n",
       "1               TV            36.873729               57.093319   \n",
       "2         Computer             7.601729              140.414001   \n",
       "3           Tablet            35.586430              177.002419   \n",
       "4           Tablet            23.503651               70.308376   \n",
       "\n",
       "   ContentDownloadsPerMonth GenrePreference  UserRating  \\\n",
       "0                        42          Comedy    3.522724   \n",
       "1                        43          Action    2.021545   \n",
       "2                        14          Sci-Fi    4.806126   \n",
       "3                        14          Comedy    4.943900   \n",
       "4                         6           Drama    2.846880   \n",
       "\n",
       "   SupportTicketsPerMonth  Gender  WatchlistSize ParentalControl  \\\n",
       "0                       2    Male             23              No   \n",
       "1                       2  Female             22             Yes   \n",
       "2                       2  Female             22              No   \n",
       "3                       0  Female             23             Yes   \n",
       "4                       6  Female              0              No   \n",
       "\n",
       "  SubtitlesEnabled  CustomerID  \n",
       "0               No  O1W6BHP6RM  \n",
       "1               No  LFR4X92X8H  \n",
       "2              Yes  QM5GBIYODA  \n",
       "3              Yes  D9RXTK2K9F  \n",
       "4               No  ENTCCHR1LR  "
      ]
     },
     "execution_count": 7,
     "metadata": {},
     "output_type": "execute_result"
    }
   ],
   "source": [
    "test_df = pd.read_csv(\"test.csv\")\n",
    "print('test_df Shape:', test_df.shape)\n",
    "test_df.head()"
   ]
  },
  {
   "cell_type": "markdown",
   "metadata": {},
   "source": [
    "## Explore, Clean, Validate, and Visualize the Data (optional)\n",
    "\n",
    "Feel free to explore, clean, validate, and visualize the data however you see fit for this competition to help determine or optimize your predictive model. Please note - the final autograding will only be on the accuracy of the `prediction_df` predictions."
   ]
  },
  {
   "cell_type": "markdown",
   "metadata": {},
   "source": [
    "### Data Exploration"
   ]
  },
  {
   "cell_type": "code",
   "execution_count": 8,
   "metadata": {},
   "outputs": [
    {
     "name": "stdout",
     "output_type": "stream",
     "text": [
      "<class 'pandas.core.frame.DataFrame'>\n",
      "RangeIndex: 243787 entries, 0 to 243786\n",
      "Data columns (total 21 columns):\n",
      " #   Column                    Non-Null Count   Dtype  \n",
      "---  ------                    --------------   -----  \n",
      " 0   AccountAge                243787 non-null  int64  \n",
      " 1   MonthlyCharges            243787 non-null  float64\n",
      " 2   TotalCharges              243787 non-null  float64\n",
      " 3   SubscriptionType          243787 non-null  object \n",
      " 4   PaymentMethod             243787 non-null  object \n",
      " 5   PaperlessBilling          243787 non-null  object \n",
      " 6   ContentType               243787 non-null  object \n",
      " 7   MultiDeviceAccess         243787 non-null  object \n",
      " 8   DeviceRegistered          243787 non-null  object \n",
      " 9   ViewingHoursPerWeek       243787 non-null  float64\n",
      " 10  AverageViewingDuration    243787 non-null  float64\n",
      " 11  ContentDownloadsPerMonth  243787 non-null  int64  \n",
      " 12  GenrePreference           243787 non-null  object \n",
      " 13  UserRating                243787 non-null  float64\n",
      " 14  SupportTicketsPerMonth    243787 non-null  int64  \n",
      " 15  Gender                    243787 non-null  object \n",
      " 16  WatchlistSize             243787 non-null  int64  \n",
      " 17  ParentalControl           243787 non-null  object \n",
      " 18  SubtitlesEnabled          243787 non-null  object \n",
      " 19  CustomerID                243787 non-null  object \n",
      " 20  Churn                     243787 non-null  int64  \n",
      "dtypes: float64(5), int64(5), object(11)\n",
      "memory usage: 39.1+ MB\n",
      "None\n"
     ]
    }
   ],
   "source": [
    "#Data Exploration\n",
    "print(train_df.info())  # Get information about the dataframe (data types, non-null values, etc.)"
   ]
  },
  {
   "cell_type": "code",
   "execution_count": 7,
   "metadata": {},
   "outputs": [
    {
     "data": {
      "text/html": [
       "<div>\n",
       "<style scoped>\n",
       "    .dataframe tbody tr th:only-of-type {\n",
       "        vertical-align: middle;\n",
       "    }\n",
       "\n",
       "    .dataframe tbody tr th {\n",
       "        vertical-align: top;\n",
       "    }\n",
       "\n",
       "    .dataframe thead th {\n",
       "        text-align: right;\n",
       "    }\n",
       "</style>\n",
       "<table border=\"1\" class=\"dataframe\">\n",
       "  <thead>\n",
       "    <tr style=\"text-align: right;\">\n",
       "      <th></th>\n",
       "      <th>AccountAge</th>\n",
       "      <th>MonthlyCharges</th>\n",
       "      <th>TotalCharges</th>\n",
       "      <th>ViewingHoursPerWeek</th>\n",
       "      <th>AverageViewingDuration</th>\n",
       "      <th>ContentDownloadsPerMonth</th>\n",
       "      <th>UserRating</th>\n",
       "      <th>SupportTicketsPerMonth</th>\n",
       "      <th>WatchlistSize</th>\n",
       "      <th>Churn</th>\n",
       "    </tr>\n",
       "  </thead>\n",
       "  <tbody>\n",
       "    <tr>\n",
       "      <th>count</th>\n",
       "      <td>243787.000000</td>\n",
       "      <td>243787.000000</td>\n",
       "      <td>243787.000000</td>\n",
       "      <td>243787.000000</td>\n",
       "      <td>243787.000000</td>\n",
       "      <td>243787.000000</td>\n",
       "      <td>243787.000000</td>\n",
       "      <td>243787.000000</td>\n",
       "      <td>243787.000000</td>\n",
       "      <td>243787.000000</td>\n",
       "    </tr>\n",
       "    <tr>\n",
       "      <th>mean</th>\n",
       "      <td>60.083758</td>\n",
       "      <td>12.490695</td>\n",
       "      <td>750.741017</td>\n",
       "      <td>20.502179</td>\n",
       "      <td>92.264061</td>\n",
       "      <td>24.503513</td>\n",
       "      <td>3.002713</td>\n",
       "      <td>4.504186</td>\n",
       "      <td>12.018508</td>\n",
       "      <td>0.181232</td>\n",
       "    </tr>\n",
       "    <tr>\n",
       "      <th>std</th>\n",
       "      <td>34.285143</td>\n",
       "      <td>4.327615</td>\n",
       "      <td>523.073273</td>\n",
       "      <td>11.243753</td>\n",
       "      <td>50.505243</td>\n",
       "      <td>14.421174</td>\n",
       "      <td>1.155259</td>\n",
       "      <td>2.872548</td>\n",
       "      <td>7.193034</td>\n",
       "      <td>0.385211</td>\n",
       "    </tr>\n",
       "    <tr>\n",
       "      <th>min</th>\n",
       "      <td>1.000000</td>\n",
       "      <td>4.990062</td>\n",
       "      <td>4.991154</td>\n",
       "      <td>1.000065</td>\n",
       "      <td>5.000547</td>\n",
       "      <td>0.000000</td>\n",
       "      <td>1.000007</td>\n",
       "      <td>0.000000</td>\n",
       "      <td>0.000000</td>\n",
       "      <td>0.000000</td>\n",
       "    </tr>\n",
       "    <tr>\n",
       "      <th>25%</th>\n",
       "      <td>30.000000</td>\n",
       "      <td>8.738543</td>\n",
       "      <td>329.147027</td>\n",
       "      <td>10.763953</td>\n",
       "      <td>48.382395</td>\n",
       "      <td>12.000000</td>\n",
       "      <td>2.000853</td>\n",
       "      <td>2.000000</td>\n",
       "      <td>6.000000</td>\n",
       "      <td>0.000000</td>\n",
       "    </tr>\n",
       "    <tr>\n",
       "      <th>50%</th>\n",
       "      <td>60.000000</td>\n",
       "      <td>12.495555</td>\n",
       "      <td>649.878487</td>\n",
       "      <td>20.523116</td>\n",
       "      <td>92.249992</td>\n",
       "      <td>24.000000</td>\n",
       "      <td>3.002261</td>\n",
       "      <td>4.000000</td>\n",
       "      <td>12.000000</td>\n",
       "      <td>0.000000</td>\n",
       "    </tr>\n",
       "    <tr>\n",
       "      <th>75%</th>\n",
       "      <td>90.000000</td>\n",
       "      <td>16.238160</td>\n",
       "      <td>1089.317362</td>\n",
       "      <td>30.219396</td>\n",
       "      <td>135.908048</td>\n",
       "      <td>37.000000</td>\n",
       "      <td>4.002157</td>\n",
       "      <td>7.000000</td>\n",
       "      <td>18.000000</td>\n",
       "      <td>0.000000</td>\n",
       "    </tr>\n",
       "    <tr>\n",
       "      <th>max</th>\n",
       "      <td>119.000000</td>\n",
       "      <td>19.989957</td>\n",
       "      <td>2378.723844</td>\n",
       "      <td>39.999723</td>\n",
       "      <td>179.999275</td>\n",
       "      <td>49.000000</td>\n",
       "      <td>4.999989</td>\n",
       "      <td>9.000000</td>\n",
       "      <td>24.000000</td>\n",
       "      <td>1.000000</td>\n",
       "    </tr>\n",
       "  </tbody>\n",
       "</table>\n",
       "</div>"
      ],
      "text/plain": [
       "          AccountAge  MonthlyCharges   TotalCharges  ViewingHoursPerWeek  \\\n",
       "count  243787.000000   243787.000000  243787.000000        243787.000000   \n",
       "mean       60.083758       12.490695     750.741017            20.502179   \n",
       "std        34.285143        4.327615     523.073273            11.243753   \n",
       "min         1.000000        4.990062       4.991154             1.000065   \n",
       "25%        30.000000        8.738543     329.147027            10.763953   \n",
       "50%        60.000000       12.495555     649.878487            20.523116   \n",
       "75%        90.000000       16.238160    1089.317362            30.219396   \n",
       "max       119.000000       19.989957    2378.723844            39.999723   \n",
       "\n",
       "       AverageViewingDuration  ContentDownloadsPerMonth     UserRating  \\\n",
       "count           243787.000000             243787.000000  243787.000000   \n",
       "mean                92.264061                 24.503513       3.002713   \n",
       "std                 50.505243                 14.421174       1.155259   \n",
       "min                  5.000547                  0.000000       1.000007   \n",
       "25%                 48.382395                 12.000000       2.000853   \n",
       "50%                 92.249992                 24.000000       3.002261   \n",
       "75%                135.908048                 37.000000       4.002157   \n",
       "max                179.999275                 49.000000       4.999989   \n",
       "\n",
       "       SupportTicketsPerMonth  WatchlistSize          Churn  \n",
       "count           243787.000000  243787.000000  243787.000000  \n",
       "mean                 4.504186      12.018508       0.181232  \n",
       "std                  2.872548       7.193034       0.385211  \n",
       "min                  0.000000       0.000000       0.000000  \n",
       "25%                  2.000000       6.000000       0.000000  \n",
       "50%                  4.000000      12.000000       0.000000  \n",
       "75%                  7.000000      18.000000       0.000000  \n",
       "max                  9.000000      24.000000       1.000000  "
      ]
     },
     "execution_count": 7,
     "metadata": {},
     "output_type": "execute_result"
    }
   ],
   "source": [
    "train_df.describe()  # Get descriptive statistics for numerical columns"
   ]
  },
  {
   "cell_type": "markdown",
   "metadata": {},
   "source": [
    "### Data Cleaning"
   ]
  },
  {
   "cell_type": "code",
   "execution_count": 9,
   "metadata": {},
   "outputs": [],
   "source": [
    "# Handle missing values\n",
    "train_df.dropna(inplace=True)  # Drop rows with missing values"
   ]
  },
  {
   "cell_type": "code",
   "execution_count": 10,
   "metadata": {},
   "outputs": [
    {
     "name": "stdout",
     "output_type": "stream",
     "text": [
      "train_df shape: (243787, 21)\n"
     ]
    }
   ],
   "source": [
    "print(\"train_df shape:\", train_df.shape)"
   ]
  },
  {
   "cell_type": "code",
   "execution_count": 11,
   "metadata": {},
   "outputs": [],
   "source": [
    "# Handle duplicates\n",
    "train_df.drop_duplicates(inplace=True)  # Drop duplicate rows"
   ]
  },
  {
   "cell_type": "markdown",
   "metadata": {},
   "source": [
    "### Validate Data"
   ]
  },
  {
   "cell_type": "code",
   "execution_count": 12,
   "metadata": {},
   "outputs": [
    {
     "data": {
      "image/png": "[encoded data removed]",
      "text/plain": [
       "<Figure size 1800x1080 with 1 Axes>"
      ]
     },
     "metadata": {
      "needs_background": "light"
     },
     "output_type": "display_data"
    }
   ],
   "source": [
    "# Check for outliers\n",
    "plt.figure(figsize=(25, 15))  # Adjust the figsize as needed\n",
    "sns.boxplot(data=train_df)\n",
    "plt.title('Boxplot of Data')\n",
    "plt.xlabel('X-axis label')\n",
    "plt.ylabel('Y-axis label')\n",
    "plt.show()"
   ]
  },
  {
   "cell_type": "markdown",
   "metadata": {},
   "source": [
    "### Data Visualization"
   ]
  },
  {
   "cell_type": "code",
   "execution_count": 13,
   "metadata": {},
   "outputs": [
    {
     "data": {
      "text/plain": [
       "Index(['AccountAge', 'MonthlyCharges', 'TotalCharges', 'SubscriptionType',\n",
       "       'PaymentMethod', 'PaperlessBilling', 'ContentType', 'MultiDeviceAccess',\n",
       "       'DeviceRegistered', 'ViewingHoursPerWeek', 'AverageViewingDuration',\n",
       "       'ContentDownloadsPerMonth', 'GenrePreference', 'UserRating',\n",
       "       'SupportTicketsPerMonth', 'Gender', 'WatchlistSize', 'ParentalControl',\n",
       "       'SubtitlesEnabled', 'CustomerID', 'Churn'],\n",
       "      dtype='object')"
      ]
     },
     "execution_count": 13,
     "metadata": {},
     "output_type": "execute_result"
    }
   ],
   "source": [
    "train_df.columns"
   ]
  },
  {
   "cell_type": "code",
   "execution_count": 12,
   "metadata": {},
   "outputs": [
    {
     "name": "stdout",
     "output_type": "stream",
     "text": [
      "Standard    81920\n",
      "Basic       81050\n",
      "Premium     80817\n",
      "Name: SubscriptionType, dtype: int64\n"
     ]
    }
   ],
   "source": [
    "SubscriptionType_content = train_df['SubscriptionType'].value_counts()\n",
    "print(SubscriptionType_content)"
   ]
  },
  {
   "cell_type": "code",
   "execution_count": 13,
   "metadata": {},
   "outputs": [
    {
     "data": {
      "image/png": "[encoded data removed]",
      "text/plain": [
       "<Figure size 720x432 with 1 Axes>"
      ]
     },
     "metadata": {
      "needs_background": "light"
     },
     "output_type": "display_data"
    }
   ],
   "source": [
    "# Plot the counts using a bar plot\n",
    "plt.figure(figsize=(10, 6)) #set the size of the plot\n",
    "sns.barplot(x=SubscriptionType_content.index, y=SubscriptionType_content.values)\n",
    "plt.xlabel('Subscription Type')\n",
    "plt.ylabel('Count')\n",
    "plt.title('Counts of Subscription Types')\n",
    "plt.xticks(rotation=45)\n",
    "plt.tight_layout()\n",
    "plt.show()"
   ]
  },
  {
   "cell_type": "code",
   "execution_count": 14,
   "metadata": {},
   "outputs": [
    {
     "data": {
      "image/png": "[encoded data removed]",
      "text/plain": [
       "<Figure size 1152x864 with 12 Axes>"
      ]
     },
     "metadata": {
      "needs_background": "light"
     },
     "output_type": "display_data"
    }
   ],
   "source": [
    "# Distrubtion of all numeric variables\n",
    "train_df.hist(figsize=(16,12))\n",
    "plt.tight_layout()"
   ]
  },
  {
   "cell_type": "code",
   "execution_count": 15,
   "metadata": {},
   "outputs": [
    {
     "data": {
      "image/png": "[encoded data removed]",
      "text/plain": [
       "<Figure size 576x360 with 2 Axes>"
      ]
     },
     "metadata": {
      "needs_background": "light"
     },
     "output_type": "display_data"
    }
   ],
   "source": [
    "plt.figure(figsize=(8,5))\n",
    "total = float(len(train_df))\n",
    "plt.subplot(1,2,1)\n",
    "ay=sns.countplot(x=\"Gender\",data=train_df)\n",
    "for p in ay.patches:\n",
    "    percentage = '{:.1f}%'.format(100 * p.get_height()/total)\n",
    "    x = p.get_x() + p.get_width()\n",
    "    y = p.get_height()\n",
    "    ay.annotate(percentage, (x, y),ha='right')\n",
    "plt.subplot(1,2,2)\n",
    "ax = sns.countplot(x=\"Gender\", hue=\"Churn\", data=train_df)\n",
    "for p in ax.patches:\n",
    "    percentage = '{:.1f}%'.format(100 * p.get_height()/total)\n",
    "    x = p.get_x() + p.get_width()\n",
    "    y = p.get_height()\n",
    "    ax.annotate(percentage, (x, y),ha='right')\n",
    "plt.show()\n",
    "     "
   ]
  },
  {
   "cell_type": "code",
   "execution_count": 19,
   "metadata": {},
   "outputs": [
    {
     "name": "stdout",
     "output_type": "stream",
     "text": [
      "0.10.1\n"
     ]
    }
   ],
   "source": [
    "import seaborn as sns\n",
    "print(sns.__version__)\n",
    "\n"
   ]
  },
  {
   "cell_type": "code",
   "execution_count": 36,
   "metadata": {},
   "outputs": [
    {
     "data": {
      "image/png": "[encoded data removed]",
      "text/plain": [
       "<Figure size 576x432 with 1 Axes>"
      ]
     },
     "metadata": {
      "needs_background": "light"
     },
     "output_type": "display_data"
    }
   ],
   "source": [
    "# Set up the plot\n",
    "plt.figure(figsize=(8,6))\n",
    "colors = ['lightslategrey',  'Teal']\n",
    "ax = sns.countplot(x='GenrePreference',hue='Churn', data=train_df, palette=colors)\n",
    "\n",
    "# Customize plot aesthetics\n",
    "ax.set_title('Total Number of Genre Preference', fontsize=20)\n",
    "ax.set_xlabel('Genre Preference', fontsize=14)\n",
    "ax.set_ylabel('Count', fontsize=14)\n",
    "\n",
    "# Show the plot\n",
    "plt.show()"
   ]
  },
  {
   "cell_type": "code",
   "execution_count": 16,
   "metadata": {},
   "outputs": [
    {
     "data": {
      "image/png": "[encoded data removed]",
      "text/plain": [
       "<Figure size 720x432 with 1 Axes>"
      ]
     },
     "metadata": {
      "needs_background": "light"
     },
     "output_type": "display_data"
    }
   ],
   "source": [
    "plt.figure(figsize=(10, 6))\n",
    "sns.countplot(x='SubscriptionType', hue='Churn', data=train_df)\n",
    "plt.xlabel('Genre Preference')\n",
    "plt.ylabel('Count')\n",
    "plt.title('Count of Subscription Type by Churn')\n",
    "plt.legend(title='Churn', labels=['No', 'Yes'])\n",
    "plt.xticks(rotation=45)  # Rotate x-axis labels for better visibility if needed\n",
    "plt.show()"
   ]
  },
  {
   "cell_type": "code",
   "execution_count": 27,
   "metadata": {},
   "outputs": [
    {
     "data": {
      "image/png": "[encoded data removed]",
      "text/plain": [
       "<Figure size 720x432 with 1 Axes>"
      ]
     },
     "metadata": {
      "needs_background": "light"
     },
     "output_type": "display_data"
    }
   ],
   "source": [
    "plt.figure(figsize=(10, 6))\n",
    "sns.countplot(x='ParentalControl', hue='Churn', data=train_df)\n",
    "plt.xlabel('Parental Control')\n",
    "plt.ylabel('Count')\n",
    "plt.title('Count of Parental Control by Churn')\n",
    "plt.legend(title='Churn', labels=['No', 'Yes'])\n",
    "plt.xticks(rotation=45)  # Rotate x-axis labels for better visibility if needed\n",
    "plt.show()"
   ]
  },
  {
   "cell_type": "code",
   "execution_count": 37,
   "metadata": {},
   "outputs": [
    {
     "data": {
      "image/png": "[encoded data removed]",
      "text/plain": [
       "<Figure size 720x432 with 1 Axes>"
      ]
     },
     "metadata": {
      "needs_background": "light"
     },
     "output_type": "display_data"
    }
   ],
   "source": [
    "plt.figure(figsize=(10, 6))\n",
    "sns.countplot(x='SubtitlesEnabled', hue='Churn', data=train_df)\n",
    "plt.xlabel(' Subtitles Enabled  ')\n",
    "plt.ylabel('Count')\n",
    "plt.title('Count of Subtitles Enabled by Churn')\n",
    "plt.legend(title='Churn', labels=['No', 'Yes'])\n",
    "plt.xticks(rotation=45)  # Rotate x-axis labels for better visibility if needed\n",
    "plt.show()"
   ]
  },
  {
   "cell_type": "code",
   "execution_count": null,
   "metadata": {},
   "outputs": [],
   "source": []
  },
  {
   "cell_type": "markdown",
   "metadata": {},
   "source": [
    "## Make predictions (required)\n",
    "\n",
    "Remember you should create a dataframe named `prediction_df` with exactly 104,480 entries plus a header row attempting to predict the likelihood of churn for subscriptions in `test_df`. Your submission will throw an error if you have extra columns (beyond `CustomerID` and `predicted_probaility`) or extra rows.\n",
    "\n",
    "The file should have exactly 2 columns:\n",
    "`CustomerID` (sorted in any order)\n",
    "`predicted_probability` (contains your numeric predicted probabilities between 0 and 1, e.g. from `estimator.predict_proba(X, y)[:, 1]`)\n",
    "\n",
    "The naming convention of the dataframe and columns are critical for our autograding, so please make sure to use the exact naming conventions of `prediction_df` with column names `CustomerID` and `predicted_probability`!"
   ]
  },
  {
   "cell_type": "markdown",
   "metadata": {},
   "source": [
    "### Example prediction submission:\n",
    "\n",
    "The code below is a very naive prediction method that simply predicts churn using a Dummy Classifier. This is used as just an example showing the submission format required. Please change/alter/delete this code below and create your own improved prediction methods for generating `prediction_df`."
   ]
  },
  {
   "cell_type": "markdown",
   "metadata": {},
   "source": [
    "**PLEASE CHANGE CODE BELOW TO IMPLEMENT YOUR OWN PREDICTIONS**"
   ]
  },
  {
   "cell_type": "code",
   "execution_count": 22,
   "metadata": {},
   "outputs": [
    {
     "data": {
      "text/plain": [
       "Index(['AccountAge', 'MonthlyCharges', 'TotalCharges', 'SubscriptionType',\n",
       "       'PaymentMethod', 'PaperlessBilling', 'ContentType', 'MultiDeviceAccess',\n",
       "       'DeviceRegistered', 'ViewingHoursPerWeek', 'AverageViewingDuration',\n",
       "       'ContentDownloadsPerMonth', 'GenrePreference', 'UserRating',\n",
       "       'SupportTicketsPerMonth', 'Gender', 'WatchlistSize', 'ParentalControl',\n",
       "       'SubtitlesEnabled', 'CustomerID', 'Churn'],\n",
       "      dtype='object')"
      ]
     },
     "execution_count": 22,
     "metadata": {},
     "output_type": "execute_result"
    }
   ],
   "source": [
    "train_df.columns"
   ]
  },
  {
   "cell_type": "code",
   "execution_count": 16,
   "metadata": {},
   "outputs": [
    {
     "data": {
      "text/plain": [
       "DummyClassifier(constant=None, random_state=None, strategy='stratified')"
      ]
     },
     "execution_count": 16,
     "metadata": {},
     "output_type": "execute_result"
    }
   ],
   "source": [
    "#Define the feature columns to use for training (exclude 'CustomerID' and 'Churn')\n",
    "from sklearn.dummy import DummyClassifier\n",
    "feature_columns = ['SubscriptionType','PaymentMethod','PaperlessBilling', 'ContentType', 'MultiDeviceAccess',\n",
    "                   'DeviceRegistered', 'AverageViewingDuration', 'GenrePreference', 'UserRating',\n",
    "                   'WatchlistSize','SubtitlesEnabled' ]\n",
    "\n",
    "# Fit a dummy classifier on the feature columns in train_df\n",
    "dummy_clf = DummyClassifier(strategy=\"stratified\")\n",
    "dummy_clf.fit(train_df[feature_columns], train_df.Churn)"
   ]
  },
  {
   "cell_type": "code",
   "execution_count": 23,
   "metadata": {},
   "outputs": [],
   "source": [
    "### PLEASE CHANGE THIS CODE TO IMPLEMENT YOUR OWN PREDICTIONS\n",
    "\n",
    "# Use our dummy classifier to make predictions on test_df using `predict_proba` method:\n",
    "predicted_probability = dummy_clf.predict_proba(test_df[feature_columns])[:, 1]"
   ]
  },
  {
   "cell_type": "code",
   "execution_count": 24,
   "metadata": {},
   "outputs": [
    {
     "name": "stdout",
     "output_type": "stream",
     "text": [
      "[0. 0. 0. ... 0. 1. 0.]\n"
     ]
    }
   ],
   "source": [
    "print(predicted_probability)"
   ]
  },
  {
   "cell_type": "code",
   "execution_count": 25,
   "metadata": {},
   "outputs": [],
   "source": [
    "### PLEASE CHANGE THIS CODE TO IMPLEMENT YOUR OWN PREDICTIONS\n",
    "\n",
    "# Combine predictions with label column into a dataframe\n",
    "prediction_df = pd.DataFrame({'CustomerID': test_df[['CustomerID']].values[:, 0],\n",
    "                             'predicted_probability': predicted_probability})"
   ]
  },
  {
   "cell_type": "code",
   "execution_count": 28,
   "metadata": {},
   "outputs": [
    {
     "name": "stdout",
     "output_type": "stream",
     "text": [
      "0    85421\n",
      "1    19059\n",
      "Name: predicted_probability, dtype: int64\n"
     ]
    }
   ],
   "source": [
    "# Create a copy of prediction_df to avoid modifying the original DataFrame\n",
    "prediction_df_copy = prediction_df.copy()\n",
    "\n",
    "# Calculate the count of classes 0 and 1\n",
    "class_counts = prediction_df_copy['predicted_probability'].apply(lambda x: 1 if x >= 0.5 else 0).value_counts()\n",
    "\n",
    "# Print the count of classes 0 and 1\n",
    "print(class_counts)"
   ]
  },
  {
   "cell_type": "code",
   "execution_count": 29,
   "metadata": {},
   "outputs": [
    {
     "name": "stdout",
     "output_type": "stream",
     "text": [
      "(104480, 2)\n"
     ]
    },
    {
     "data": {
      "text/html": [
       "<div>\n",
       "<style scoped>\n",
       "    .dataframe tbody tr th:only-of-type {\n",
       "        vertical-align: middle;\n",
       "    }\n",
       "\n",
       "    .dataframe tbody tr th {\n",
       "        vertical-align: top;\n",
       "    }\n",
       "\n",
       "    .dataframe thead th {\n",
       "        text-align: right;\n",
       "    }\n",
       "</style>\n",
       "<table border=\"1\" class=\"dataframe\">\n",
       "  <thead>\n",
       "    <tr style=\"text-align: right;\">\n",
       "      <th></th>\n",
       "      <th>CustomerID</th>\n",
       "      <th>predicted_probability</th>\n",
       "    </tr>\n",
       "  </thead>\n",
       "  <tbody>\n",
       "    <tr>\n",
       "      <th>0</th>\n",
       "      <td>O1W6BHP6RM</td>\n",
       "      <td>0.0</td>\n",
       "    </tr>\n",
       "    <tr>\n",
       "      <th>1</th>\n",
       "      <td>LFR4X92X8H</td>\n",
       "      <td>0.0</td>\n",
       "    </tr>\n",
       "    <tr>\n",
       "      <th>2</th>\n",
       "      <td>QM5GBIYODA</td>\n",
       "      <td>0.0</td>\n",
       "    </tr>\n",
       "    <tr>\n",
       "      <th>3</th>\n",
       "      <td>D9RXTK2K9F</td>\n",
       "      <td>0.0</td>\n",
       "    </tr>\n",
       "    <tr>\n",
       "      <th>4</th>\n",
       "      <td>ENTCCHR1LR</td>\n",
       "      <td>0.0</td>\n",
       "    </tr>\n",
       "  </tbody>\n",
       "</table>\n",
       "</div>"
      ],
      "text/plain": [
       "   CustomerID  predicted_probability\n",
       "0  O1W6BHP6RM                    0.0\n",
       "1  LFR4X92X8H                    0.0\n",
       "2  QM5GBIYODA                    0.0\n",
       "3  D9RXTK2K9F                    0.0\n",
       "4  ENTCCHR1LR                    0.0"
      ]
     },
     "execution_count": 29,
     "metadata": {},
     "output_type": "execute_result"
    }
   ],
   "source": [
    "### PLEASE CHANGE THIS CODE TO IMPLEMENT YOUR OWN PREDICTIONS\n",
    "\n",
    "# View our 'prediction_df' dataframe as required for submission.\n",
    "# Ensure it should contain 104,480 rows and 2 columns 'CustomerID' and 'predicted_probaility'\n",
    "print(prediction_df.shape)\n",
    "prediction_df.head()"
   ]
  },
  {
   "cell_type": "markdown",
   "metadata": {},
   "source": [
    "**PLEASE CHANGE CODE ABOVE TO IMPLEMENT YOUR OWN PREDICTIONS**"
   ]
  },
  {
   "cell_type": "markdown",
   "metadata": {},
   "source": [
    "## Final Tests - **IMPORTANT** - the cells below must be run prior to submission\n",
    "\n",
    "Below are some tests to ensure your submission is in the correct format for autograding. The autograding process accepts a csv `prediction_submission.csv` which we will generate from our `prediction_df` below. Please run the tests below an ensure no assertion errors are thrown."
   ]
  },
  {
   "cell_type": "code",
   "execution_count": 30,
   "metadata": {},
   "outputs": [],
   "source": [
    "# FINAL TEST CELLS - please make sure all of your code is above these test cells\n",
    "\n",
    "# Writing to csv for autograding purposes\n",
    "prediction_df.to_csv(\"prediction_submission.csv\", index=False)\n",
    "submission = pd.read_csv(\"prediction_submission.csv\")\n",
    "\n",
    "assert isinstance(submission, pd.DataFrame), 'You should have a dataframe named prediction_df.'"
   ]
  },
  {
   "cell_type": "code",
   "execution_count": 31,
   "metadata": {},
   "outputs": [],
   "source": [
    "# FINAL TEST CELLS - please make sure all of your code is above these test cells\n",
    "\n",
    "assert submission.columns[0] == 'CustomerID', 'The first column name should be CustomerID.'\n",
    "assert submission.columns[1] == 'predicted_probability', 'The second column name should be predicted_probability.'"
   ]
  },
  {
   "cell_type": "code",
   "execution_count": 32,
   "metadata": {},
   "outputs": [],
   "source": [
    "# FINAL TEST CELLS - please make sure all of your code is above these test cells\n",
    "\n",
    "assert submission.shape[0] == 104480, 'The dataframe prediction_df should have 104480 rows.'"
   ]
  },
  {
   "cell_type": "code",
   "execution_count": 33,
   "metadata": {},
   "outputs": [],
   "source": [
    "# FINAL TEST CELLS - please make sure all of your code is above these test cells\n",
    "\n",
    "assert submission.shape[1] == 2, 'The dataframe prediction_df should have 2 columns.'"
   ]
  },
  {
   "cell_type": "code",
   "execution_count": 34,
   "metadata": {},
   "outputs": [],
   "source": [
    "# FINAL TEST CELLS - please make sure all of your code is above these test cells\n",
    "\n",
    "## This cell calculates the auc score and is hidden. Submit Assignment to see AUC score."
   ]
  },
  {
   "cell_type": "markdown",
   "metadata": {},
   "source": [
    "## SUBMIT YOUR WORK!\n",
    "\n",
    "Once we are happy with our `prediction_df` and `prediction_submission.csv` we can now submit for autograding! Submit by using the blue **Submit Assignment** at the top of your notebook. Don't worry if your initial submission isn't perfect as you have multiple submission attempts and will obtain some feedback after each submission!"
   ]
  }
 ],
 "metadata": {
  "kernelspec": {
   "display_name": "Python 3",
   "language": "python",
   "name": "python3"
  },
  "language_info": {
   "codemirror_mode": {
    "name": "ipython",
    "version": 3
   },
   "file_extension": ".py",
   "mimetype": "text/x-python",
   "name": "python",
   "nbconvert_exporter": "python",
   "pygments_lexer": "ipython3",
   "version": "3.7.6"
  }
 },
 "nbformat": 4,
 "nbformat_minor": 4
}
