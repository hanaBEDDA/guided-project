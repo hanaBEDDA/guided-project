{
 "cells": [
  {
   "cell_type": "markdown",
   "id": "2fd992b1",
   "metadata": {},
   "source": [
    "# Draw the graph using the iGraph package."
   ]
  },
  {
   "cell_type": "code",
   "execution_count": 46,
   "id": "13f7aaa2",
   "metadata": {},
   "outputs": [],
   "source": [
    "#import the important packages\n",
    "import igraph as ig\n",
    "import matplotlib.pyplot as plt"
   ]
  },
  {
   "cell_type": "code",
   "execution_count": 47,
   "id": "1e3e1016",
   "metadata": {},
   "outputs": [
    {
     "data": {
      "text/plain": [
       "[[1, 5, 9]]"
      ]
     },
     "execution_count": 47,
     "metadata": {},
     "output_type": "execute_result"
    }
   ],
   "source": [
    "g = ig.Graph(9,[(1,5),(8,2),(7,1),(3,6),(5,9),(4,2),(2,5),(6,3),(9,2),(1,5),(8,4),(7,1),(3,6),(5,7),(4,2),(2,8),(6,9),(9,7)])\n",
    "\n",
    "\n",
    "#To find the shortest path or distance between two nodes\n",
    "results = g.get_shortest_paths(1, to=9,output = \"vpath\")\n",
    "results"
   ]
  },
  {
   "cell_type": "code",
   "execution_count": 48,
   "id": "727fbe5f",
   "metadata": {},
   "outputs": [
    {
     "name": "stdout",
     "output_type": "stream",
     "text": [
      "Shortest distance is : 2\n"
     ]
    }
   ],
   "source": [
    "# We can print the result of the computation\n",
    "\n",
    "if len(results[0]) > 0:\n",
    "    #the distance is the number of vertices in the shortest path minus one.\n",
    "    print(\"Shortest distance is :\", len(results[0])-1)\n",
    "    \n",
    "else :\n",
    "    print(\"End node could not be reached!\")"
   ]
  },
  {
   "cell_type": "code",
   "execution_count": 49,
   "id": "5316a4fe",
   "metadata": {},
   "outputs": [
    {
     "data": {
      "text/plain": [
       "[54,\n",
       " 126,\n",
       " 330,\n",
       " 80,\n",
       " 300,\n",
       " 98,\n",
       " 120,\n",
       " 52,\n",
       " 102,\n",
       " 124,\n",
       " 138,\n",
       " 328,\n",
       " 50,\n",
       " 302,\n",
       " 78,\n",
       " 45,\n",
       " 203,\n",
       " 129]"
      ]
     },
     "execution_count": 49,
     "metadata": {},
     "output_type": "execute_result"
    }
   ],
   "source": [
    "#Add weights to our graph edges\n",
    "\n",
    "g.es[\"weight\"] = [54,126,330,80,300,98,120,52,102,124,138,328,50,302,78,45,203,129]\n",
    "g.es[\"weight\"]"
   ]
  },
  {
   "cell_type": "code",
   "execution_count": 50,
   "id": "fd1b89ef",
   "metadata": {},
   "outputs": [
    {
     "data": {
      "text/plain": [
       "[[0, 6, 8]]"
      ]
     },
     "execution_count": 50,
     "metadata": {},
     "output_type": "execute_result"
    }
   ],
   "source": [
    "#Get the shortest paths on a weighted graph\n",
    "\n",
    "results = g.get_shortest_paths(1, to=9,weights=g.es[\"weight\"],output = \"epath\")\n",
    "\n",
    "results\n"
   ]
  },
  {
   "cell_type": "code",
   "execution_count": 51,
   "id": "39bc2116",
   "metadata": {},
   "outputs": [
    {
     "name": "stdout",
     "output_type": "stream",
     "text": [
      "Shortest weighted distance is: 54\n",
      "Shortest weighted distance is: 174\n",
      "Shortest weighted distance is: 276\n"
     ]
    }
   ],
   "source": [
    "if len(results[0]) > 0:\n",
    "    #Add up the weights across all adges on the shortest path\n",
    "    distance = 0\n",
    "    for e in results[0]:\n",
    "        distance += g.es[e][\"weight\"]\n",
    "        print(\"Shortest weighted distance is:\", distance)\n",
    "        \n",
    "else :\n",
    "    print(\"End node could not be reached!\")"
   ]
  },
  {
   "cell_type": "code",
   "execution_count": 52,
   "id": "e8a75db0",
   "metadata": {},
   "outputs": [
    {
     "data": {
      "image/png": "[encoded data removed]",
      "text/plain": [
       "<Figure size 432x288 with 1 Axes>"
      ]
     },
     "metadata": {},
     "output_type": "display_data"
    }
   ],
   "source": [
    "#plot the graph\n",
    "\n",
    "g.es['width'] = 0.5\n",
    "g.es[results[0]]['width'] = 2.5\n",
    "\n",
    "ax = plt.subplot()\n",
    "ig.plot(\n",
    "         g,\n",
    "         target = ax,\n",
    "         \n",
    "         vertex_color = 'steelblue',\n",
    "         vertex_label = range(g.vcount()),\n",
    "         edge_width=g.es['width'],\n",
    "         edge_label=g.es[\"weight\"],\n",
    "         edge_align_label = True,\n",
    "         edge_background = 'white')\n",
    "\n",
    "\n",
    "plt.show()"
   ]
  },
  {
   "cell_type": "markdown",
   "id": "793d014b",
   "metadata": {},
   "source": [
    "# Communities"
   ]
  },
  {
   "cell_type": "code",
   "execution_count": 53,
   "id": "35f622f5",
   "metadata": {},
   "outputs": [],
   "source": [
    "import igraph as ig\n",
    "import matplotlib.pyplot as plt"
   ]
  },
  {
   "cell_type": "code",
   "execution_count": 55,
   "id": "6330f3c8",
   "metadata": {},
   "outputs": [],
   "source": [
    "# Edge betweenness is a standard way to detect commuoties\n",
    "\n",
    "communities = g.community_edge_betweenness()\n",
    "communities = communities.as_clustering()"
   ]
  },
  {
   "cell_type": "code",
   "execution_count": 56,
   "id": "30e07e35",
   "metadata": {},
   "outputs": [],
   "source": [
    "# Next we color each vertex and edge based on its community membership\n",
    "\n",
    "num_communities = len(communities)\n",
    "palette = ig.RainbowPalette(n = num_communities)\n",
    "for i,community in enumerate(communities):\n",
    "    g.vs[community][\"color\"] = i\n",
    "    community_edges = g.es.select(_within = community)\n",
    "    community_edges[\"color\"] = i"
   ]
  },
  {
   "cell_type": "code",
   "execution_count": 57,
   "id": "4176e904",
   "metadata": {},
   "outputs": [
    {
     "data": {
      "image/png": "[encoded data removed]",
      "text/plain": [
       "<Figure size 432x288 with 1 Axes>"
      ]
     },
     "metadata": {},
     "output_type": "display_data"
    }
   ],
   "source": [
    "#Plot the graph\n",
    "fig, ax = plt.subplots()\n",
    "ig.plot(\n",
    "         communities,\n",
    "         palette = palette,\n",
    "         edge_width = 1,\n",
    "         target = ax,\n",
    "         vertex_size =0.3,\n",
    "\n",
    ")\n",
    "# Create a custom color legend\n",
    "legend_handles = []\n",
    "for i in range(num_communities):\n",
    "    handle = ax.scatter(\n",
    "        [], [],\n",
    "        s=100,\n",
    "        facecolor=palette.get(i),\n",
    "        edgecolor=\"k\",\n",
    "        label=i,\n",
    "    )\n",
    "    legend_handles.append(handle)\n",
    "ax.legend(\n",
    "    handles=legend_handles,\n",
    "    title='Community:',\n",
    "    bbox_to_anchor=(0, 1.0),\n",
    "    bbox_transform=ax.transAxes,\n",
    ")\n",
    "plt.show()"
   ]
  },
  {
   "cell_type": "code",
   "execution_count": null,
   "id": "4fe2350f",
   "metadata": {},
   "outputs": [],
   "source": []
  }
 ],
 "metadata": {
  "kernelspec": {
   "display_name": "Python 3 (ipykernel)",
   "language": "python",
   "name": "python3"
  },
  "language_info": {
   "codemirror_mode": {
    "name": "ipython",
    "version": 3
   },
   "file_extension": ".py",
   "mimetype": "text/x-python",
   "name": "python",
   "nbconvert_exporter": "python",
   "pygments_lexer": "ipython3",
   "version": "3.9.7"
  }
 },
 "nbformat": 4,
 "nbformat_minor": 5
}
