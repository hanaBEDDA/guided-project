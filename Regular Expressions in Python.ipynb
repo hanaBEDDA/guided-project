{
 "cells": [
  {
   "cell_type": "markdown",
   "id": "a04b7927",
   "metadata": {},
   "source": [
    "# Create an account"
   ]
  },
  {
   "cell_type": "code",
   "execution_count": 65,
   "id": "943b727b",
   "metadata": {},
   "outputs": [],
   "source": [
    "import re"
   ]
  },
  {
   "cell_type": "code",
   "execution_count": 66,
   "id": "48bab3e1",
   "metadata": {},
   "outputs": [
    {
     "name": "stdout",
     "output_type": "stream",
     "text": [
      "enter your first name :Hana\n"
     ]
    }
   ],
   "source": [
    "# input your First name\n",
    "FN= input(\"enter your first name :\")"
   ]
  },
  {
   "cell_type": "code",
   "execution_count": 67,
   "id": "a155049e",
   "metadata": {},
   "outputs": [],
   "source": [
    "regex = '^[a-zA-Z]+$'"
   ]
  },
  {
   "cell_type": "code",
   "execution_count": 68,
   "id": "2f00b91f",
   "metadata": {},
   "outputs": [
    {
     "name": "stdout",
     "output_type": "stream",
     "text": [
      "accept first name\n"
     ]
    }
   ],
   "source": [
    "if re.fullmatch(regex,FN):\n",
    "    print('accept first name')\n",
    "else :\n",
    "    \n",
    "    input(\"try again \")"
   ]
  },
  {
   "cell_type": "code",
   "execution_count": 69,
   "id": "444b398c",
   "metadata": {},
   "outputs": [
    {
     "name": "stdout",
     "output_type": "stream",
     "text": [
      "enter your last name :Bedda\n"
     ]
    }
   ],
   "source": [
    "# input your Last name\n",
    "LN = input(\"enter your last name :\")\n"
   ]
  },
  {
   "cell_type": "code",
   "execution_count": 70,
   "id": "077a93b6",
   "metadata": {},
   "outputs": [
    {
     "name": "stdout",
     "output_type": "stream",
     "text": [
      "accept last name\n"
     ]
    }
   ],
   "source": [
    "if re.fullmatch(regex,FN):\n",
    "    print('accept last name')\n",
    "else :\n",
    "    \n",
    "    input(\"try again \")"
   ]
  },
  {
   "cell_type": "code",
   "execution_count": 76,
   "id": "edaf1f54",
   "metadata": {},
   "outputs": [
    {
     "name": "stdout",
     "output_type": "stream",
     "text": [
      "enter your age 2\n"
     ]
    }
   ],
   "source": [
    "#input your age\n",
    "\n",
    "age = input(\"enter your age \")"
   ]
  },
  {
   "cell_type": "code",
   "execution_count": 77,
   "id": "276b7552",
   "metadata": {},
   "outputs": [],
   "source": [
    "regex = '[0-9]{2,2}'"
   ]
  },
  {
   "cell_type": "code",
   "execution_count": 78,
   "id": "328b62e6",
   "metadata": {},
   "outputs": [
    {
     "name": "stdout",
     "output_type": "stream",
     "text": [
      "try again 22\n"
     ]
    }
   ],
   "source": [
    "if re.fullmatch(regex,age):\n",
    "    print('accept your age')\n",
    "else :\n",
    "    \n",
    "    input(\"try again \")\n",
    "    "
   ]
  },
  {
   "cell_type": "code",
   "execution_count": 79,
   "id": "7996293e",
   "metadata": {},
   "outputs": [],
   "source": [
    "#email\n",
    "\n",
    "regex = '^(\\w|\\.|\\-|\\_)+[@]\\w+[.]\\w{2,3}$'\n"
   ]
  },
  {
   "cell_type": "code",
   "execution_count": 80,
   "id": "904fc916",
   "metadata": {},
   "outputs": [
    {
     "name": "stdout",
     "output_type": "stream",
     "text": [
      "enter your email hana3@gmail.com\n"
     ]
    }
   ],
   "source": [
    "email = input(\"enter your email \")"
   ]
  },
  {
   "cell_type": "code",
   "execution_count": 81,
   "id": "05a737c0",
   "metadata": {},
   "outputs": [
    {
     "name": "stdout",
     "output_type": "stream",
     "text": [
      "accept email\n"
     ]
    }
   ],
   "source": [
    "if re.fullmatch(regex,email):\n",
    "    print(\"accept email\")\n",
    "else:\n",
    "    input(\"try again \")"
   ]
  },
  {
   "cell_type": "markdown",
   "id": "948f6210",
   "metadata": {},
   "source": [
    "## input password\n"
   ]
  },
  {
   "cell_type": "markdown",
   "id": "937bc47f",
   "metadata": {},
   "source": [
    "first sase:\n",
    "Your password should meets the following criteria:\n",
    "\n",
    "*At least 8 characters\n",
    "\n",
    "*uppercase letters: A-Z\n",
    "\n",
    "*lowercase letters:a-z\n",
    "\n",
    "*numbers: 0-9\n",
    "\n",
    "*any of the special characters:@#$%^&+-"
   ]
  },
  {
   "cell_type": "code",
   "execution_count": 82,
   "id": "2dc045b0",
   "metadata": {},
   "outputs": [],
   "source": [
    "regex = '[A-Za-z0-9@#$%^&+=]{8,}'"
   ]
  },
  {
   "cell_type": "code",
   "execution_count": 87,
   "id": "7bfb3ff9",
   "metadata": {},
   "outputs": [
    {
     "name": "stdout",
     "output_type": "stream",
     "text": [
      "enter a password hanahana22\n"
     ]
    }
   ],
   "source": [
    "pwd = input(\"enter a password \")"
   ]
  },
  {
   "cell_type": "code",
   "execution_count": 88,
   "id": "0900e5d0",
   "metadata": {},
   "outputs": [
    {
     "name": "stdout",
     "output_type": "stream",
     "text": [
      "congratulation there is a mutch\n"
     ]
    }
   ],
   "source": [
    "if re.fullmatch(regex,pwd):\n",
    "    print(\"congratulation there is a mutch\")\n",
    "else :\n",
    "    input(\"sorry,enter a new password\")"
   ]
  },
  {
   "cell_type": "markdown",
   "id": "1d543163",
   "metadata": {},
   "source": [
    "secod case:\n",
    "Your password should meets ALL the following criteria\n",
    "\n",
    "*At least six charaters long\n",
    "\n",
    "*contains a lowercase letter\n",
    "\n",
    "*contains a luppercase letter\n",
    "\n",
    "*contains a number"
   ]
  },
  {
   "cell_type": "code",
   "execution_count": 89,
   "id": "5a7cbeb5",
   "metadata": {},
   "outputs": [],
   "source": [
    "regex = '(?=.*[A-Z])(?=.*[a-z])(?=.*[0-9]{6,})'"
   ]
  },
  {
   "cell_type": "code",
   "execution_count": 92,
   "id": "e05cd7b6",
   "metadata": {},
   "outputs": [
    {
     "name": "stdout",
     "output_type": "stream",
     "text": [
      "enter a password hananaa21\n"
     ]
    }
   ],
   "source": [
    "pwd = input(\"enter a password \")"
   ]
  },
  {
   "cell_type": "code",
   "execution_count": 93,
   "id": "efc76c6f",
   "metadata": {},
   "outputs": [
    {
     "name": "stdout",
     "output_type": "stream",
     "text": [
      "sorry,enter a new password Hanahanan221\n"
     ]
    }
   ],
   "source": [
    "if re.fullmatch(regex,pwd):\n",
    "    print(\"congratulation there is a mutch\")\n",
    "else :\n",
    "    input(\"sorry,enter a new password \")\n",
    "    "
   ]
  },
  {
   "cell_type": "code",
   "execution_count": null,
   "id": "5a7db760",
   "metadata": {},
   "outputs": [],
   "source": []
  }
 ],
 "metadata": {
  "kernelspec": {
   "display_name": "Python 3 (ipykernel)",
   "language": "python",
   "name": "python3"
  },
  "language_info": {
   "codemirror_mode": {
    "name": "ipython",
    "version": 3
   },
   "file_extension": ".py",
   "mimetype": "text/x-python",
   "name": "python",
   "nbconvert_exporter": "python",
   "pygments_lexer": "ipython3",
   "version": "3.9.7"
  }
 },
 "nbformat": 4,
 "nbformat_minor": 5
}
